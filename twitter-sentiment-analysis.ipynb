{
 "cells": [
  {
   "cell_type": "code",
   "execution_count": 1,
   "id": "de8d945d",
   "metadata": {
    "_cell_guid": "b1076dfc-b9ad-4769-8c92-a6c4dae69d19",
    "_uuid": "8f2839f25d086af736a60e9eeb907d3b93b6e0e5",
    "execution": {
     "iopub.execute_input": "2023-08-19T07:17:11.543419Z",
     "iopub.status.busy": "2023-08-19T07:17:11.542609Z",
     "iopub.status.idle": "2023-08-19T07:17:11.562302Z",
     "shell.execute_reply": "2023-08-19T07:17:11.561339Z"
    },
    "papermill": {
     "duration": 0.035461,
     "end_time": "2023-08-19T07:17:11.565090",
     "exception": false,
     "start_time": "2023-08-19T07:17:11.529629",
     "status": "completed"
    },
    "tags": []
   },
   "outputs": [
    {
     "name": "stdout",
     "output_type": "stream",
     "text": [
      "/kaggle/input/sentiment-analysis/sentiment.csv\n"
     ]
    }
   ],
   "source": [
    "# This Python 3 environment comes with many helpful analytics libraries installed\n",
    "# It is defined by the kaggle/python Docker image: https://github.com/kaggle/docker-python\n",
    "# For example, here's several helpful packages to load\n",
    "\n",
    "import numpy as np # linear algebra\n",
    "import pandas as pd # data processing, CSV file I/O (e.g. pd.read_csv)\n",
    "\n",
    "# Input data files are available in the read-only \"../input/\" directory\n",
    "# For example, running this (by clicking run or pressing Shift+Enter) will list all files under the input directory\n",
    "\n",
    "import os\n",
    "for dirname, _, filenames in os.walk('/kaggle/input'):\n",
    "    for filename in filenames:\n",
    "        print(os.path.join(dirname, filename))\n",
    "\n",
    "# You can write up to 20GB to the current directory (/kaggle/working/) that gets preserved as output when you create a version using \"Save & Run All\" \n",
    "# You can also write temporary files to /kaggle/temp/, but they won't be saved outside of the current session"
   ]
  },
  {
   "cell_type": "code",
   "execution_count": 2,
   "id": "e46a7d87",
   "metadata": {
    "execution": {
     "iopub.execute_input": "2023-08-19T07:17:11.589560Z",
     "iopub.status.busy": "2023-08-19T07:17:11.589147Z",
     "iopub.status.idle": "2023-08-19T07:17:11.594832Z",
     "shell.execute_reply": "2023-08-19T07:17:11.593617Z"
    },
    "papermill": {
     "duration": 0.021484,
     "end_time": "2023-08-19T07:17:11.597134",
     "exception": false,
     "start_time": "2023-08-19T07:17:11.575650",
     "status": "completed"
    },
    "tags": []
   },
   "outputs": [],
   "source": [
    "import matplotlib.pyplot as plt"
   ]
  },
  {
   "cell_type": "code",
   "execution_count": 3,
   "id": "bd57a0fb",
   "metadata": {
    "execution": {
     "iopub.execute_input": "2023-08-19T07:17:11.620519Z",
     "iopub.status.busy": "2023-08-19T07:17:11.620087Z",
     "iopub.status.idle": "2023-08-19T07:17:11.786206Z",
     "shell.execute_reply": "2023-08-19T07:17:11.784818Z"
    },
    "papermill": {
     "duration": 0.180488,
     "end_time": "2023-08-19T07:17:11.789030",
     "exception": false,
     "start_time": "2023-08-19T07:17:11.608542",
     "status": "completed"
    },
    "tags": []
   },
   "outputs": [],
   "source": [
    "data = pd.read_csv('/kaggle/input/sentiment-analysis/sentiment.csv')"
   ]
  },
  {
   "cell_type": "code",
   "execution_count": 4,
   "id": "1a3c544b",
   "metadata": {
    "execution": {
     "iopub.execute_input": "2023-08-19T07:17:11.812491Z",
     "iopub.status.busy": "2023-08-19T07:17:11.811544Z",
     "iopub.status.idle": "2023-08-19T07:17:11.835282Z",
     "shell.execute_reply": "2023-08-19T07:17:11.834333Z"
    },
    "papermill": {
     "duration": 0.037824,
     "end_time": "2023-08-19T07:17:11.837310",
     "exception": false,
     "start_time": "2023-08-19T07:17:11.799486",
     "status": "completed"
    },
    "tags": []
   },
   "outputs": [
    {
     "data": {
      "text/html": [
       "<div>\n",
       "<style scoped>\n",
       "    .dataframe tbody tr th:only-of-type {\n",
       "        vertical-align: middle;\n",
       "    }\n",
       "\n",
       "    .dataframe tbody tr th {\n",
       "        vertical-align: top;\n",
       "    }\n",
       "\n",
       "    .dataframe thead th {\n",
       "        text-align: right;\n",
       "    }\n",
       "</style>\n",
       "<table border=\"1\" class=\"dataframe\">\n",
       "  <thead>\n",
       "    <tr style=\"text-align: right;\">\n",
       "      <th></th>\n",
       "      <th>id</th>\n",
       "      <th>label</th>\n",
       "      <th>tweet</th>\n",
       "    </tr>\n",
       "  </thead>\n",
       "  <tbody>\n",
       "    <tr>\n",
       "      <th>0</th>\n",
       "      <td>1</td>\n",
       "      <td>0</td>\n",
       "      <td>@user when a father is dysfunctional and is s...</td>\n",
       "    </tr>\n",
       "    <tr>\n",
       "      <th>1</th>\n",
       "      <td>2</td>\n",
       "      <td>0</td>\n",
       "      <td>@user @user thanks for #lyft credit i can't us...</td>\n",
       "    </tr>\n",
       "    <tr>\n",
       "      <th>2</th>\n",
       "      <td>3</td>\n",
       "      <td>0</td>\n",
       "      <td>bihday your majesty</td>\n",
       "    </tr>\n",
       "    <tr>\n",
       "      <th>3</th>\n",
       "      <td>4</td>\n",
       "      <td>0</td>\n",
       "      <td>#model   i love u take with u all the time in ...</td>\n",
       "    </tr>\n",
       "    <tr>\n",
       "      <th>4</th>\n",
       "      <td>5</td>\n",
       "      <td>0</td>\n",
       "      <td>factsguide: society now    #motivation</td>\n",
       "    </tr>\n",
       "  </tbody>\n",
       "</table>\n",
       "</div>"
      ],
      "text/plain": [
       "   id  label                                              tweet\n",
       "0   1      0   @user when a father is dysfunctional and is s...\n",
       "1   2      0  @user @user thanks for #lyft credit i can't us...\n",
       "2   3      0                                bihday your majesty\n",
       "3   4      0  #model   i love u take with u all the time in ...\n",
       "4   5      0             factsguide: society now    #motivation"
      ]
     },
     "execution_count": 4,
     "metadata": {},
     "output_type": "execute_result"
    }
   ],
   "source": [
    "data.head()"
   ]
  },
  {
   "cell_type": "code",
   "execution_count": 5,
   "id": "3466b40c",
   "metadata": {
    "execution": {
     "iopub.execute_input": "2023-08-19T07:17:11.860466Z",
     "iopub.status.busy": "2023-08-19T07:17:11.859922Z",
     "iopub.status.idle": "2023-08-19T07:17:11.889426Z",
     "shell.execute_reply": "2023-08-19T07:17:11.887722Z"
    },
    "papermill": {
     "duration": 0.044607,
     "end_time": "2023-08-19T07:17:11.892563",
     "exception": false,
     "start_time": "2023-08-19T07:17:11.847956",
     "status": "completed"
    },
    "tags": []
   },
   "outputs": [
    {
     "data": {
      "text/html": [
       "<div>\n",
       "<style scoped>\n",
       "    .dataframe tbody tr th:only-of-type {\n",
       "        vertical-align: middle;\n",
       "    }\n",
       "\n",
       "    .dataframe tbody tr th {\n",
       "        vertical-align: top;\n",
       "    }\n",
       "\n",
       "    .dataframe thead th {\n",
       "        text-align: right;\n",
       "    }\n",
       "</style>\n",
       "<table border=\"1\" class=\"dataframe\">\n",
       "  <thead>\n",
       "    <tr style=\"text-align: right;\">\n",
       "      <th></th>\n",
       "      <th>id</th>\n",
       "      <th>label</th>\n",
       "    </tr>\n",
       "  </thead>\n",
       "  <tbody>\n",
       "    <tr>\n",
       "      <th>count</th>\n",
       "      <td>31962.000000</td>\n",
       "      <td>31962.000000</td>\n",
       "    </tr>\n",
       "    <tr>\n",
       "      <th>mean</th>\n",
       "      <td>15981.500000</td>\n",
       "      <td>0.070146</td>\n",
       "    </tr>\n",
       "    <tr>\n",
       "      <th>std</th>\n",
       "      <td>9226.778988</td>\n",
       "      <td>0.255397</td>\n",
       "    </tr>\n",
       "    <tr>\n",
       "      <th>min</th>\n",
       "      <td>1.000000</td>\n",
       "      <td>0.000000</td>\n",
       "    </tr>\n",
       "    <tr>\n",
       "      <th>25%</th>\n",
       "      <td>7991.250000</td>\n",
       "      <td>0.000000</td>\n",
       "    </tr>\n",
       "    <tr>\n",
       "      <th>50%</th>\n",
       "      <td>15981.500000</td>\n",
       "      <td>0.000000</td>\n",
       "    </tr>\n",
       "    <tr>\n",
       "      <th>75%</th>\n",
       "      <td>23971.750000</td>\n",
       "      <td>0.000000</td>\n",
       "    </tr>\n",
       "    <tr>\n",
       "      <th>max</th>\n",
       "      <td>31962.000000</td>\n",
       "      <td>1.000000</td>\n",
       "    </tr>\n",
       "  </tbody>\n",
       "</table>\n",
       "</div>"
      ],
      "text/plain": [
       "                 id         label\n",
       "count  31962.000000  31962.000000\n",
       "mean   15981.500000      0.070146\n",
       "std     9226.778988      0.255397\n",
       "min        1.000000      0.000000\n",
       "25%     7991.250000      0.000000\n",
       "50%    15981.500000      0.000000\n",
       "75%    23971.750000      0.000000\n",
       "max    31962.000000      1.000000"
      ]
     },
     "execution_count": 5,
     "metadata": {},
     "output_type": "execute_result"
    }
   ],
   "source": [
    "data.describe()"
   ]
  },
  {
   "cell_type": "code",
   "execution_count": 6,
   "id": "ec1bac58",
   "metadata": {
    "execution": {
     "iopub.execute_input": "2023-08-19T07:17:11.916670Z",
     "iopub.status.busy": "2023-08-19T07:17:11.916241Z",
     "iopub.status.idle": "2023-08-19T07:17:11.952209Z",
     "shell.execute_reply": "2023-08-19T07:17:11.949729Z"
    },
    "papermill": {
     "duration": 0.051448,
     "end_time": "2023-08-19T07:17:11.955230",
     "exception": false,
     "start_time": "2023-08-19T07:17:11.903782",
     "status": "completed"
    },
    "tags": []
   },
   "outputs": [
    {
     "name": "stdout",
     "output_type": "stream",
     "text": [
      "<class 'pandas.core.frame.DataFrame'>\n",
      "RangeIndex: 31962 entries, 0 to 31961\n",
      "Data columns (total 3 columns):\n",
      " #   Column  Non-Null Count  Dtype \n",
      "---  ------  --------------  ----- \n",
      " 0   id      31962 non-null  int64 \n",
      " 1   label   31962 non-null  int64 \n",
      " 2   tweet   31962 non-null  object\n",
      "dtypes: int64(2), object(1)\n",
      "memory usage: 749.2+ KB\n"
     ]
    }
   ],
   "source": [
    "data.info()"
   ]
  },
  {
   "cell_type": "code",
   "execution_count": 7,
   "id": "30a64c66",
   "metadata": {
    "execution": {
     "iopub.execute_input": "2023-08-19T07:17:11.978959Z",
     "iopub.status.busy": "2023-08-19T07:17:11.978516Z",
     "iopub.status.idle": "2023-08-19T07:17:11.986222Z",
     "shell.execute_reply": "2023-08-19T07:17:11.985156Z"
    },
    "papermill": {
     "duration": 0.021907,
     "end_time": "2023-08-19T07:17:11.988226",
     "exception": false,
     "start_time": "2023-08-19T07:17:11.966319",
     "status": "completed"
    },
    "tags": []
   },
   "outputs": [
    {
     "data": {
      "text/plain": [
       "(31962, 3)"
      ]
     },
     "execution_count": 7,
     "metadata": {},
     "output_type": "execute_result"
    }
   ],
   "source": [
    "data.shape"
   ]
  },
  {
   "cell_type": "code",
   "execution_count": 8,
   "id": "59d3e86b",
   "metadata": {
    "execution": {
     "iopub.execute_input": "2023-08-19T07:17:12.013262Z",
     "iopub.status.busy": "2023-08-19T07:17:12.012851Z",
     "iopub.status.idle": "2023-08-19T07:17:12.024263Z",
     "shell.execute_reply": "2023-08-19T07:17:12.023109Z"
    },
    "papermill": {
     "duration": 0.027189,
     "end_time": "2023-08-19T07:17:12.026231",
     "exception": false,
     "start_time": "2023-08-19T07:17:11.999042",
     "status": "completed"
    },
    "tags": []
   },
   "outputs": [
    {
     "data": {
      "text/plain": [
       "0    29720\n",
       "1     2242\n",
       "Name: label, dtype: int64"
      ]
     },
     "execution_count": 8,
     "metadata": {},
     "output_type": "execute_result"
    }
   ],
   "source": [
    "data['label'].value_counts()"
   ]
  },
  {
   "cell_type": "code",
   "execution_count": 9,
   "id": "7a07b14d",
   "metadata": {
    "execution": {
     "iopub.execute_input": "2023-08-19T07:17:12.050332Z",
     "iopub.status.busy": "2023-08-19T07:17:12.049804Z",
     "iopub.status.idle": "2023-08-19T07:17:12.066662Z",
     "shell.execute_reply": "2023-08-19T07:17:12.064798Z"
    },
    "papermill": {
     "duration": 0.032524,
     "end_time": "2023-08-19T07:17:12.069622",
     "exception": false,
     "start_time": "2023-08-19T07:17:12.037098",
     "status": "completed"
    },
    "tags": []
   },
   "outputs": [
    {
     "data": {
      "text/html": [
       "<div>\n",
       "<style scoped>\n",
       "    .dataframe tbody tr th:only-of-type {\n",
       "        vertical-align: middle;\n",
       "    }\n",
       "\n",
       "    .dataframe tbody tr th {\n",
       "        vertical-align: top;\n",
       "    }\n",
       "\n",
       "    .dataframe thead th {\n",
       "        text-align: right;\n",
       "    }\n",
       "</style>\n",
       "<table border=\"1\" class=\"dataframe\">\n",
       "  <thead>\n",
       "    <tr style=\"text-align: right;\">\n",
       "      <th></th>\n",
       "      <th>id</th>\n",
       "      <th>label</th>\n",
       "      <th>tweet</th>\n",
       "    </tr>\n",
       "  </thead>\n",
       "  <tbody>\n",
       "    <tr>\n",
       "      <th>13</th>\n",
       "      <td>14</td>\n",
       "      <td>1</td>\n",
       "      <td>@user #cnn calls #michigan middle school 'buil...</td>\n",
       "    </tr>\n",
       "    <tr>\n",
       "      <th>14</th>\n",
       "      <td>15</td>\n",
       "      <td>1</td>\n",
       "      <td>no comment!  in #australia   #opkillingbay #se...</td>\n",
       "    </tr>\n",
       "    <tr>\n",
       "      <th>17</th>\n",
       "      <td>18</td>\n",
       "      <td>1</td>\n",
       "      <td>retweet if you agree!</td>\n",
       "    </tr>\n",
       "    <tr>\n",
       "      <th>23</th>\n",
       "      <td>24</td>\n",
       "      <td>1</td>\n",
       "      <td>@user @user lumpy says i am a . prove it lumpy.</td>\n",
       "    </tr>\n",
       "    <tr>\n",
       "      <th>34</th>\n",
       "      <td>35</td>\n",
       "      <td>1</td>\n",
       "      <td>it's unbelievable that in the 21st century we'...</td>\n",
       "    </tr>\n",
       "    <tr>\n",
       "      <th>56</th>\n",
       "      <td>57</td>\n",
       "      <td>1</td>\n",
       "      <td>@user lets fight against  #love #peace</td>\n",
       "    </tr>\n",
       "    <tr>\n",
       "      <th>68</th>\n",
       "      <td>69</td>\n",
       "      <td>1</td>\n",
       "      <td>ð©the white establishment can't have blk fol...</td>\n",
       "    </tr>\n",
       "    <tr>\n",
       "      <th>77</th>\n",
       "      <td>78</td>\n",
       "      <td>1</td>\n",
       "      <td>@user hey, white people: you can call people '...</td>\n",
       "    </tr>\n",
       "    <tr>\n",
       "      <th>82</th>\n",
       "      <td>83</td>\n",
       "      <td>1</td>\n",
       "      <td>how the #altright uses  &amp;amp; insecurity to lu...</td>\n",
       "    </tr>\n",
       "    <tr>\n",
       "      <th>111</th>\n",
       "      <td>112</td>\n",
       "      <td>1</td>\n",
       "      <td>@user i'm not interested in a #linguistics tha...</td>\n",
       "    </tr>\n",
       "  </tbody>\n",
       "</table>\n",
       "</div>"
      ],
      "text/plain": [
       "      id  label                                              tweet\n",
       "13    14      1  @user #cnn calls #michigan middle school 'buil...\n",
       "14    15      1  no comment!  in #australia   #opkillingbay #se...\n",
       "17    18      1                             retweet if you agree! \n",
       "23    24      1    @user @user lumpy says i am a . prove it lumpy.\n",
       "34    35      1  it's unbelievable that in the 21st century we'...\n",
       "56    57      1            @user lets fight against  #love #peace \n",
       "68    69      1  ð©the white establishment can't have blk fol...\n",
       "77    78      1  @user hey, white people: you can call people '...\n",
       "82    83      1  how the #altright uses  &amp; insecurity to lu...\n",
       "111  112      1  @user i'm not interested in a #linguistics tha..."
      ]
     },
     "execution_count": 9,
     "metadata": {},
     "output_type": "execute_result"
    }
   ],
   "source": [
    "data[data['label']==1].head(10)"
   ]
  },
  {
   "cell_type": "code",
   "execution_count": 10,
   "id": "1af12332",
   "metadata": {
    "execution": {
     "iopub.execute_input": "2023-08-19T07:17:12.094789Z",
     "iopub.status.busy": "2023-08-19T07:17:12.094307Z",
     "iopub.status.idle": "2023-08-19T07:17:12.109518Z",
     "shell.execute_reply": "2023-08-19T07:17:12.108373Z"
    },
    "papermill": {
     "duration": 0.030438,
     "end_time": "2023-08-19T07:17:12.111722",
     "exception": false,
     "start_time": "2023-08-19T07:17:12.081284",
     "status": "completed"
    },
    "tags": []
   },
   "outputs": [
    {
     "data": {
      "text/html": [
       "<div>\n",
       "<style scoped>\n",
       "    .dataframe tbody tr th:only-of-type {\n",
       "        vertical-align: middle;\n",
       "    }\n",
       "\n",
       "    .dataframe tbody tr th {\n",
       "        vertical-align: top;\n",
       "    }\n",
       "\n",
       "    .dataframe thead th {\n",
       "        text-align: right;\n",
       "    }\n",
       "</style>\n",
       "<table border=\"1\" class=\"dataframe\">\n",
       "  <thead>\n",
       "    <tr style=\"text-align: right;\">\n",
       "      <th></th>\n",
       "      <th>id</th>\n",
       "      <th>label</th>\n",
       "      <th>tweet</th>\n",
       "    </tr>\n",
       "  </thead>\n",
       "  <tbody>\n",
       "    <tr>\n",
       "      <th>0</th>\n",
       "      <td>1</td>\n",
       "      <td>0</td>\n",
       "      <td>@user when a father is dysfunctional and is s...</td>\n",
       "    </tr>\n",
       "    <tr>\n",
       "      <th>1</th>\n",
       "      <td>2</td>\n",
       "      <td>0</td>\n",
       "      <td>@user @user thanks for #lyft credit i can't us...</td>\n",
       "    </tr>\n",
       "    <tr>\n",
       "      <th>2</th>\n",
       "      <td>3</td>\n",
       "      <td>0</td>\n",
       "      <td>bihday your majesty</td>\n",
       "    </tr>\n",
       "    <tr>\n",
       "      <th>3</th>\n",
       "      <td>4</td>\n",
       "      <td>0</td>\n",
       "      <td>#model   i love u take with u all the time in ...</td>\n",
       "    </tr>\n",
       "    <tr>\n",
       "      <th>4</th>\n",
       "      <td>5</td>\n",
       "      <td>0</td>\n",
       "      <td>factsguide: society now    #motivation</td>\n",
       "    </tr>\n",
       "    <tr>\n",
       "      <th>5</th>\n",
       "      <td>6</td>\n",
       "      <td>0</td>\n",
       "      <td>[2/2] huge fan fare and big talking before the...</td>\n",
       "    </tr>\n",
       "    <tr>\n",
       "      <th>6</th>\n",
       "      <td>7</td>\n",
       "      <td>0</td>\n",
       "      <td>@user camping tomorrow @user @user @user @use...</td>\n",
       "    </tr>\n",
       "    <tr>\n",
       "      <th>7</th>\n",
       "      <td>8</td>\n",
       "      <td>0</td>\n",
       "      <td>the next school year is the year for exams.ð...</td>\n",
       "    </tr>\n",
       "    <tr>\n",
       "      <th>8</th>\n",
       "      <td>9</td>\n",
       "      <td>0</td>\n",
       "      <td>we won!!! love the land!!! #allin #cavs #champ...</td>\n",
       "    </tr>\n",
       "    <tr>\n",
       "      <th>9</th>\n",
       "      <td>10</td>\n",
       "      <td>0</td>\n",
       "      <td>@user @user welcome here !  i'm   it's so #gr...</td>\n",
       "    </tr>\n",
       "  </tbody>\n",
       "</table>\n",
       "</div>"
      ],
      "text/plain": [
       "   id  label                                              tweet\n",
       "0   1      0   @user when a father is dysfunctional and is s...\n",
       "1   2      0  @user @user thanks for #lyft credit i can't us...\n",
       "2   3      0                                bihday your majesty\n",
       "3   4      0  #model   i love u take with u all the time in ...\n",
       "4   5      0             factsguide: society now    #motivation\n",
       "5   6      0  [2/2] huge fan fare and big talking before the...\n",
       "6   7      0   @user camping tomorrow @user @user @user @use...\n",
       "7   8      0  the next school year is the year for exams.ð...\n",
       "8   9      0  we won!!! love the land!!! #allin #cavs #champ...\n",
       "9  10      0   @user @user welcome here !  i'm   it's so #gr..."
      ]
     },
     "execution_count": 10,
     "metadata": {},
     "output_type": "execute_result"
    }
   ],
   "source": [
    "data[data['label']==0].head(10)"
   ]
  },
  {
   "cell_type": "code",
   "execution_count": 11,
   "id": "f3da894a",
   "metadata": {
    "execution": {
     "iopub.execute_input": "2023-08-19T07:17:12.137287Z",
     "iopub.status.busy": "2023-08-19T07:17:12.136801Z",
     "iopub.status.idle": "2023-08-19T07:17:12.157280Z",
     "shell.execute_reply": "2023-08-19T07:17:12.155448Z"
    },
    "papermill": {
     "duration": 0.037012,
     "end_time": "2023-08-19T07:17:12.160231",
     "exception": false,
     "start_time": "2023-08-19T07:17:12.123219",
     "status": "completed"
    },
    "tags": []
   },
   "outputs": [
    {
     "data": {
      "text/plain": [
       "id       0\n",
       "label    0\n",
       "tweet    0\n",
       "dtype: int64"
      ]
     },
     "execution_count": 11,
     "metadata": {},
     "output_type": "execute_result"
    }
   ],
   "source": [
    "data.isnull().sum()"
   ]
  },
  {
   "cell_type": "code",
   "execution_count": 12,
   "id": "ee261842",
   "metadata": {
    "execution": {
     "iopub.execute_input": "2023-08-19T07:17:12.186973Z",
     "iopub.status.busy": "2023-08-19T07:17:12.185399Z",
     "iopub.status.idle": "2023-08-19T07:17:12.202851Z",
     "shell.execute_reply": "2023-08-19T07:17:12.201029Z"
    },
    "papermill": {
     "duration": 0.033419,
     "end_time": "2023-08-19T07:17:12.205249",
     "exception": false,
     "start_time": "2023-08-19T07:17:12.171830",
     "status": "completed"
    },
    "tags": []
   },
   "outputs": [
    {
     "data": {
      "text/html": [
       "<div>\n",
       "<style scoped>\n",
       "    .dataframe tbody tr th:only-of-type {\n",
       "        vertical-align: middle;\n",
       "    }\n",
       "\n",
       "    .dataframe tbody tr th {\n",
       "        vertical-align: top;\n",
       "    }\n",
       "\n",
       "    .dataframe thead th {\n",
       "        text-align: right;\n",
       "    }\n",
       "</style>\n",
       "<table border=\"1\" class=\"dataframe\">\n",
       "  <thead>\n",
       "    <tr style=\"text-align: right;\">\n",
       "      <th></th>\n",
       "      <th>label</th>\n",
       "      <th>tweet</th>\n",
       "    </tr>\n",
       "  </thead>\n",
       "  <tbody>\n",
       "    <tr>\n",
       "      <th>0</th>\n",
       "      <td>0</td>\n",
       "      <td>@user when a father is dysfunctional and is s...</td>\n",
       "    </tr>\n",
       "    <tr>\n",
       "      <th>1</th>\n",
       "      <td>0</td>\n",
       "      <td>@user @user thanks for #lyft credit i can't us...</td>\n",
       "    </tr>\n",
       "    <tr>\n",
       "      <th>2</th>\n",
       "      <td>0</td>\n",
       "      <td>bihday your majesty</td>\n",
       "    </tr>\n",
       "    <tr>\n",
       "      <th>3</th>\n",
       "      <td>0</td>\n",
       "      <td>#model   i love u take with u all the time in ...</td>\n",
       "    </tr>\n",
       "    <tr>\n",
       "      <th>4</th>\n",
       "      <td>0</td>\n",
       "      <td>factsguide: society now    #motivation</td>\n",
       "    </tr>\n",
       "  </tbody>\n",
       "</table>\n",
       "</div>"
      ],
      "text/plain": [
       "   label                                              tweet\n",
       "0      0   @user when a father is dysfunctional and is s...\n",
       "1      0  @user @user thanks for #lyft credit i can't us...\n",
       "2      0                                bihday your majesty\n",
       "3      0  #model   i love u take with u all the time in ...\n",
       "4      0             factsguide: society now    #motivation"
      ]
     },
     "execution_count": 12,
     "metadata": {},
     "output_type": "execute_result"
    }
   ],
   "source": [
    "data.drop(['id'],axis=1,inplace=True)\n",
    "data.head()"
   ]
  },
  {
   "cell_type": "code",
   "execution_count": 13,
   "id": "66a8fe8a",
   "metadata": {
    "execution": {
     "iopub.execute_input": "2023-08-19T07:17:12.232520Z",
     "iopub.status.busy": "2023-08-19T07:17:12.232092Z",
     "iopub.status.idle": "2023-08-19T07:17:12.239240Z",
     "shell.execute_reply": "2023-08-19T07:17:12.238383Z"
    },
    "papermill": {
     "duration": 0.024599,
     "end_time": "2023-08-19T07:17:12.241813",
     "exception": false,
     "start_time": "2023-08-19T07:17:12.217214",
     "status": "completed"
    },
    "tags": []
   },
   "outputs": [
    {
     "data": {
      "text/plain": [
       "'!\"#$%&\\'()*+,-./:;<=>?@[\\\\]^_`{|}~'"
      ]
     },
     "execution_count": 13,
     "metadata": {},
     "output_type": "execute_result"
    }
   ],
   "source": [
    "#data preprocessing\n",
    "import string\n",
    "string.punctuation"
   ]
  },
  {
   "cell_type": "code",
   "execution_count": 14,
   "id": "059e689f",
   "metadata": {
    "execution": {
     "iopub.execute_input": "2023-08-19T07:17:12.267505Z",
     "iopub.status.busy": "2023-08-19T07:17:12.267133Z",
     "iopub.status.idle": "2023-08-19T07:17:12.273402Z",
     "shell.execute_reply": "2023-08-19T07:17:12.272161Z"
    },
    "papermill": {
     "duration": 0.02171,
     "end_time": "2023-08-19T07:17:12.275507",
     "exception": false,
     "start_time": "2023-08-19T07:17:12.253797",
     "status": "completed"
    },
    "tags": []
   },
   "outputs": [],
   "source": [
    "#function to remove punctuation\n",
    "\n",
    "def clean(text):\n",
    "    rm_pun=[char for char in text.lower() if char not in string.punctuation]\n",
    "    rm_pun_join =''.join(rm_pun)\n",
    "    return rm_pun_join"
   ]
  },
  {
   "cell_type": "code",
   "execution_count": 15,
   "id": "a1bb7a55",
   "metadata": {
    "execution": {
     "iopub.execute_input": "2023-08-19T07:17:12.301301Z",
     "iopub.status.busy": "2023-08-19T07:17:12.300864Z",
     "iopub.status.idle": "2023-08-19T07:17:12.310839Z",
     "shell.execute_reply": "2023-08-19T07:17:12.308858Z"
    },
    "papermill": {
     "duration": 0.026018,
     "end_time": "2023-08-19T07:17:12.313185",
     "exception": false,
     "start_time": "2023-08-19T07:17:12.287167",
     "status": "completed"
    },
    "tags": []
   },
   "outputs": [
    {
     "data": {
      "text/plain": [
       "' hello how are you'"
      ]
     },
     "execution_count": 15,
     "metadata": {},
     "output_type": "execute_result"
    }
   ],
   "source": [
    "clean(' @Hello how are; you....')"
   ]
  },
  {
   "cell_type": "code",
   "execution_count": 16,
   "id": "5c08fc17",
   "metadata": {
    "execution": {
     "iopub.execute_input": "2023-08-19T07:17:12.339825Z",
     "iopub.status.busy": "2023-08-19T07:17:12.339342Z",
     "iopub.status.idle": "2023-08-19T07:17:12.685987Z",
     "shell.execute_reply": "2023-08-19T07:17:12.684935Z"
    },
    "papermill": {
     "duration": 0.363499,
     "end_time": "2023-08-19T07:17:12.688739",
     "exception": false,
     "start_time": "2023-08-19T07:17:12.325240",
     "status": "completed"
    },
    "tags": []
   },
   "outputs": [],
   "source": [
    "tweets_data_clean= data['tweet'].apply(clean)"
   ]
  },
  {
   "cell_type": "code",
   "execution_count": 17,
   "id": "ac3da5ae",
   "metadata": {
    "execution": {
     "iopub.execute_input": "2023-08-19T07:17:12.713993Z",
     "iopub.status.busy": "2023-08-19T07:17:12.713519Z",
     "iopub.status.idle": "2023-08-19T07:17:12.721240Z",
     "shell.execute_reply": "2023-08-19T07:17:12.719623Z"
    },
    "papermill": {
     "duration": 0.022759,
     "end_time": "2023-08-19T07:17:12.723384",
     "exception": false,
     "start_time": "2023-08-19T07:17:12.700625",
     "status": "completed"
    },
    "tags": []
   },
   "outputs": [
    {
     "data": {
      "text/plain": [
       "'user user thanks for lyft credit i cant use cause they dont offer wheelchair vans in pdx    disapointed getthanked'"
      ]
     },
     "execution_count": 17,
     "metadata": {},
     "output_type": "execute_result"
    }
   ],
   "source": [
    "tweets_data_clean[1]"
   ]
  },
  {
   "cell_type": "code",
   "execution_count": 18,
   "id": "32ba85b9",
   "metadata": {
    "execution": {
     "iopub.execute_input": "2023-08-19T07:17:12.748299Z",
     "iopub.status.busy": "2023-08-19T07:17:12.747887Z",
     "iopub.status.idle": "2023-08-19T07:17:12.757012Z",
     "shell.execute_reply": "2023-08-19T07:17:12.755700Z"
    },
    "papermill": {
     "duration": 0.025723,
     "end_time": "2023-08-19T07:17:12.760694",
     "exception": false,
     "start_time": "2023-08-19T07:17:12.734971",
     "status": "completed"
    },
    "tags": []
   },
   "outputs": [
    {
     "data": {
      "text/plain": [
       "0     user when a father is dysfunctional and is so...\n",
       "1    user user thanks for lyft credit i cant use ca...\n",
       "2                                  bihday your majesty\n",
       "3    model   i love u take with u all the time in u...\n",
       "4                 factsguide society now    motivation\n",
       "Name: tweet, dtype: object"
      ]
     },
     "execution_count": 18,
     "metadata": {},
     "output_type": "execute_result"
    }
   ],
   "source": [
    "tweets_data_clean.head()"
   ]
  },
  {
   "cell_type": "code",
   "execution_count": 19,
   "id": "cd7f2ff6",
   "metadata": {
    "execution": {
     "iopub.execute_input": "2023-08-19T07:17:12.788467Z",
     "iopub.status.busy": "2023-08-19T07:17:12.787975Z",
     "iopub.status.idle": "2023-08-19T07:17:15.019421Z",
     "shell.execute_reply": "2023-08-19T07:17:15.017901Z"
    },
    "papermill": {
     "duration": 2.249964,
     "end_time": "2023-08-19T07:17:15.023812",
     "exception": false,
     "start_time": "2023-08-19T07:17:12.773848",
     "status": "completed"
    },
    "tags": []
   },
   "outputs": [
    {
     "name": "stderr",
     "output_type": "stream",
     "text": [
      "/opt/conda/lib/python3.10/site-packages/scipy/__init__.py:146: UserWarning: A NumPy version >=1.16.5 and <1.23.0 is required for this version of SciPy (detected version 1.23.5\n",
      "  warnings.warn(f\"A NumPy version >={np_minversion} and <{np_maxversion}\"\n"
     ]
    }
   ],
   "source": [
    "import nltk"
   ]
  },
  {
   "cell_type": "code",
   "execution_count": 20,
   "id": "6360e82a",
   "metadata": {
    "execution": {
     "iopub.execute_input": "2023-08-19T07:17:15.052572Z",
     "iopub.status.busy": "2023-08-19T07:17:15.052072Z",
     "iopub.status.idle": "2023-08-19T07:17:15.066036Z",
     "shell.execute_reply": "2023-08-19T07:17:15.064030Z"
    },
    "papermill": {
     "duration": 0.031292,
     "end_time": "2023-08-19T07:17:15.068474",
     "exception": false,
     "start_time": "2023-08-19T07:17:15.037182",
     "status": "completed"
    },
    "tags": []
   },
   "outputs": [
    {
     "name": "stdout",
     "output_type": "stream",
     "text": [
      "['i', 'me', 'my', 'myself', 'we']\n"
     ]
    }
   ],
   "source": [
    "stopwords=nltk.corpus.stopwords.words('english')\n",
    "print(stopwords[:5])"
   ]
  },
  {
   "cell_type": "code",
   "execution_count": 21,
   "id": "e9a686d1",
   "metadata": {
    "execution": {
     "iopub.execute_input": "2023-08-19T07:17:15.097168Z",
     "iopub.status.busy": "2023-08-19T07:17:15.096740Z",
     "iopub.status.idle": "2023-08-19T07:17:15.108188Z",
     "shell.execute_reply": "2023-08-19T07:17:15.106725Z"
    },
    "papermill": {
     "duration": 0.028277,
     "end_time": "2023-08-19T07:17:15.110599",
     "exception": false,
     "start_time": "2023-08-19T07:17:15.082322",
     "status": "completed"
    },
    "tags": []
   },
   "outputs": [
    {
     "data": {
      "text/plain": [
       "Index(['tweet'], dtype='object')"
      ]
     },
     "execution_count": 21,
     "metadata": {},
     "output_type": "execute_result"
    }
   ],
   "source": [
    "tweets_data=pd.DataFrame(tweets_data_clean)\n",
    "tweets_data.columns"
   ]
  },
  {
   "cell_type": "code",
   "execution_count": 22,
   "id": "83c854c8",
   "metadata": {
    "execution": {
     "iopub.execute_input": "2023-08-19T07:17:15.137867Z",
     "iopub.status.busy": "2023-08-19T07:17:15.137445Z",
     "iopub.status.idle": "2023-08-19T07:17:15.144871Z",
     "shell.execute_reply": "2023-08-19T07:17:15.142853Z"
    },
    "papermill": {
     "duration": 0.024596,
     "end_time": "2023-08-19T07:17:15.147747",
     "exception": false,
     "start_time": "2023-08-19T07:17:15.123151",
     "status": "completed"
    },
    "tags": []
   },
   "outputs": [],
   "source": [
    "#stopwords treatment and converting the data into lowercase\n",
    "def stop(text):\n",
    "    rm_stop=[a for a in text.split() if a.lower() not in stopwords]\n",
    "    rm_stop_join=' '.join(rm_stop)\n",
    "    return rm_stop_join"
   ]
  },
  {
   "cell_type": "code",
   "execution_count": 23,
   "id": "486e9bd3",
   "metadata": {
    "execution": {
     "iopub.execute_input": "2023-08-19T07:17:15.174740Z",
     "iopub.status.busy": "2023-08-19T07:17:15.174296Z",
     "iopub.status.idle": "2023-08-19T07:17:15.183310Z",
     "shell.execute_reply": "2023-08-19T07:17:15.181917Z"
    },
    "papermill": {
     "duration": 0.026403,
     "end_time": "2023-08-19T07:17:15.186612",
     "exception": false,
     "start_time": "2023-08-19T07:17:15.160209",
     "status": "completed"
    },
    "tags": []
   },
   "outputs": [
    {
     "data": {
      "text/plain": [
       "'user father dysfunctional selfish drags kids dysfunction run'"
      ]
     },
     "execution_count": 23,
     "metadata": {},
     "output_type": "execute_result"
    }
   ],
   "source": [
    "stop(tweets_data['tweet'][0])"
   ]
  },
  {
   "cell_type": "code",
   "execution_count": 24,
   "id": "ce0b3000",
   "metadata": {
    "execution": {
     "iopub.execute_input": "2023-08-19T07:17:15.213525Z",
     "iopub.status.busy": "2023-08-19T07:17:15.213001Z",
     "iopub.status.idle": "2023-08-19T07:17:15.972573Z",
     "shell.execute_reply": "2023-08-19T07:17:15.970741Z"
    },
    "papermill": {
     "duration": 0.776978,
     "end_time": "2023-08-19T07:17:15.976001",
     "exception": false,
     "start_time": "2023-08-19T07:17:15.199023",
     "status": "completed"
    },
    "tags": []
   },
   "outputs": [],
   "source": [
    "tweets_data_stopwords=tweets_data['tweet'].apply(stop)"
   ]
  },
  {
   "cell_type": "code",
   "execution_count": 25,
   "id": "d144b802",
   "metadata": {
    "execution": {
     "iopub.execute_input": "2023-08-19T07:17:16.002469Z",
     "iopub.status.busy": "2023-08-19T07:17:16.001983Z",
     "iopub.status.idle": "2023-08-19T07:17:16.013911Z",
     "shell.execute_reply": "2023-08-19T07:17:16.012421Z"
    },
    "papermill": {
     "duration": 0.028392,
     "end_time": "2023-08-19T07:17:16.017092",
     "exception": false,
     "start_time": "2023-08-19T07:17:15.988700",
     "status": "completed"
    },
    "tags": []
   },
   "outputs": [
    {
     "data": {
      "text/plain": [
       "0    user father dysfunctional selfish drags kids d...\n",
       "1    user user thanks lyft credit cant use cause do...\n",
       "Name: tweet, dtype: object"
      ]
     },
     "execution_count": 25,
     "metadata": {},
     "output_type": "execute_result"
    }
   ],
   "source": [
    "tweets_data_stopwords[:2]"
   ]
  },
  {
   "cell_type": "code",
   "execution_count": 26,
   "id": "0518bdc3",
   "metadata": {
    "execution": {
     "iopub.execute_input": "2023-08-19T07:17:16.046748Z",
     "iopub.status.busy": "2023-08-19T07:17:16.046249Z",
     "iopub.status.idle": "2023-08-19T07:17:16.058785Z",
     "shell.execute_reply": "2023-08-19T07:17:16.057890Z"
    },
    "papermill": {
     "duration": 0.029985,
     "end_time": "2023-08-19T07:17:16.060571",
     "exception": false,
     "start_time": "2023-08-19T07:17:16.030586",
     "status": "completed"
    },
    "tags": []
   },
   "outputs": [
    {
     "data": {
      "text/html": [
       "<div>\n",
       "<style scoped>\n",
       "    .dataframe tbody tr th:only-of-type {\n",
       "        vertical-align: middle;\n",
       "    }\n",
       "\n",
       "    .dataframe tbody tr th {\n",
       "        vertical-align: top;\n",
       "    }\n",
       "\n",
       "    .dataframe thead th {\n",
       "        text-align: right;\n",
       "    }\n",
       "</style>\n",
       "<table border=\"1\" class=\"dataframe\">\n",
       "  <thead>\n",
       "    <tr style=\"text-align: right;\">\n",
       "      <th></th>\n",
       "      <th>tweet</th>\n",
       "    </tr>\n",
       "  </thead>\n",
       "  <tbody>\n",
       "    <tr>\n",
       "      <th>0</th>\n",
       "      <td>user father dysfunctional selfish drags kids d...</td>\n",
       "    </tr>\n",
       "    <tr>\n",
       "      <th>1</th>\n",
       "      <td>user user thanks lyft credit cant use cause do...</td>\n",
       "    </tr>\n",
       "    <tr>\n",
       "      <th>2</th>\n",
       "      <td>bihday majesty</td>\n",
       "    </tr>\n",
       "    <tr>\n",
       "      <th>3</th>\n",
       "      <td>model love u take u time urð± ðððð...</td>\n",
       "    </tr>\n",
       "    <tr>\n",
       "      <th>4</th>\n",
       "      <td>factsguide society motivation</td>\n",
       "    </tr>\n",
       "    <tr>\n",
       "      <th>...</th>\n",
       "      <td>...</td>\n",
       "    </tr>\n",
       "    <tr>\n",
       "      <th>31957</th>\n",
       "      <td>ate user isz youuuððððððð...</td>\n",
       "    </tr>\n",
       "    <tr>\n",
       "      <th>31958</th>\n",
       "      <td>see nina turner airwaves trying wrap mantle ge...</td>\n",
       "    </tr>\n",
       "    <tr>\n",
       "      <th>31959</th>\n",
       "      <td>listening sad songs monday morning otw work sad</td>\n",
       "    </tr>\n",
       "    <tr>\n",
       "      <th>31960</th>\n",
       "      <td>user sikh temple vandalised calgary wso condem...</td>\n",
       "    </tr>\n",
       "    <tr>\n",
       "      <th>31961</th>\n",
       "      <td>thank user follow</td>\n",
       "    </tr>\n",
       "  </tbody>\n",
       "</table>\n",
       "<p>31962 rows × 1 columns</p>\n",
       "</div>"
      ],
      "text/plain": [
       "                                                   tweet\n",
       "0      user father dysfunctional selfish drags kids d...\n",
       "1      user user thanks lyft credit cant use cause do...\n",
       "2                                         bihday majesty\n",
       "3      model love u take u time urð± ðððð...\n",
       "4                          factsguide society motivation\n",
       "...                                                  ...\n",
       "31957  ate user isz youuuððððððð...\n",
       "31958  see nina turner airwaves trying wrap mantle ge...\n",
       "31959    listening sad songs monday morning otw work sad\n",
       "31960  user sikh temple vandalised calgary wso condem...\n",
       "31961                                  thank user follow\n",
       "\n",
       "[31962 rows x 1 columns]"
      ]
     },
     "execution_count": 26,
     "metadata": {},
     "output_type": "execute_result"
    }
   ],
   "source": [
    "tweets_data_stopwords=pd.DataFrame(tweets_data_stopwords)\n",
    "tweets_data_stopwords"
   ]
  },
  {
   "cell_type": "code",
   "execution_count": 27,
   "id": "947a87fb",
   "metadata": {
    "execution": {
     "iopub.execute_input": "2023-08-19T07:17:16.092372Z",
     "iopub.status.busy": "2023-08-19T07:17:16.091881Z",
     "iopub.status.idle": "2023-08-19T07:17:16.098738Z",
     "shell.execute_reply": "2023-08-19T07:17:16.096933Z"
    },
    "papermill": {
     "duration": 0.027689,
     "end_time": "2023-08-19T07:17:16.101997",
     "exception": false,
     "start_time": "2023-08-19T07:17:16.074308",
     "status": "completed"
    },
    "tags": []
   },
   "outputs": [],
   "source": [
    "#stemming\n",
    "from nltk.stem import PorterStemmer\n",
    "st=PorterStemmer()\n",
    "\n",
    "def steming(text):\n",
    "    ste=[st.stem(word) for word in text.split()]\n",
    "    ste_join= ' '.join(ste)\n",
    "    return ste_join"
   ]
  },
  {
   "cell_type": "code",
   "execution_count": 28,
   "id": "0779aa36",
   "metadata": {
    "execution": {
     "iopub.execute_input": "2023-08-19T07:17:16.130894Z",
     "iopub.status.busy": "2023-08-19T07:17:16.130327Z",
     "iopub.status.idle": "2023-08-19T07:17:22.791088Z",
     "shell.execute_reply": "2023-08-19T07:17:22.790145Z"
    },
    "papermill": {
     "duration": 6.677825,
     "end_time": "2023-08-19T07:17:22.793202",
     "exception": false,
     "start_time": "2023-08-19T07:17:16.115377",
     "status": "completed"
    },
    "tags": []
   },
   "outputs": [
    {
     "data": {
      "text/plain": [
       "0    user father dysfunct selfish drag kid dysfunct...\n",
       "1    user user thank lyft credit cant use caus dont...\n",
       "Name: tweet, dtype: object"
      ]
     },
     "execution_count": 28,
     "metadata": {},
     "output_type": "execute_result"
    }
   ],
   "source": [
    "tweets_data_stem=tweets_data_stopwords['tweet'].apply(steming)\n",
    "tweets_data_stem[:2]"
   ]
  },
  {
   "cell_type": "code",
   "execution_count": 29,
   "id": "1009c3dc",
   "metadata": {
    "execution": {
     "iopub.execute_input": "2023-08-19T07:17:22.822874Z",
     "iopub.status.busy": "2023-08-19T07:17:22.822263Z",
     "iopub.status.idle": "2023-08-19T07:17:22.829234Z",
     "shell.execute_reply": "2023-08-19T07:17:22.828435Z"
    },
    "papermill": {
     "duration": 0.023801,
     "end_time": "2023-08-19T07:17:22.831106",
     "exception": false,
     "start_time": "2023-08-19T07:17:22.807305",
     "status": "completed"
    },
    "tags": []
   },
   "outputs": [
    {
     "data": {
      "text/plain": [
       "'user father dysfunctional selfish drags kids dysfunction run'"
      ]
     },
     "execution_count": 29,
     "metadata": {},
     "output_type": "execute_result"
    }
   ],
   "source": [
    "tweets_data_stopwords['tweet'][0]"
   ]
  },
  {
   "cell_type": "code",
   "execution_count": 30,
   "id": "41ffc489",
   "metadata": {
    "execution": {
     "iopub.execute_input": "2023-08-19T07:17:22.859455Z",
     "iopub.status.busy": "2023-08-19T07:17:22.859001Z",
     "iopub.status.idle": "2023-08-19T07:17:22.865238Z",
     "shell.execute_reply": "2023-08-19T07:17:22.863465Z"
    },
    "papermill": {
     "duration": 0.024093,
     "end_time": "2023-08-19T07:17:22.868285",
     "exception": false,
     "start_time": "2023-08-19T07:17:22.844192",
     "status": "completed"
    },
    "tags": []
   },
   "outputs": [],
   "source": [
    "#applying Lemmatization\n",
    "from nltk.stem import WordNetLemmatizer\n",
    "wl=WordNetLemmatizer()"
   ]
  },
  {
   "cell_type": "code",
   "execution_count": 31,
   "id": "5c5ce69d",
   "metadata": {
    "execution": {
     "iopub.execute_input": "2023-08-19T07:17:22.897284Z",
     "iopub.status.busy": "2023-08-19T07:17:22.896926Z",
     "iopub.status.idle": "2023-08-19T07:17:23.066288Z",
     "shell.execute_reply": "2023-08-19T07:17:23.064979Z"
    },
    "papermill": {
     "duration": 0.188121,
     "end_time": "2023-08-19T07:17:23.070023",
     "exception": false,
     "start_time": "2023-08-19T07:17:22.881902",
     "status": "completed"
    },
    "tags": []
   },
   "outputs": [
    {
     "name": "stdout",
     "output_type": "stream",
     "text": [
      "[nltk_data] Downloading package wordnet to /usr/share/nltk_data...\n",
      "[nltk_data]   Package wordnet is already up-to-date!\n"
     ]
    },
    {
     "data": {
      "text/plain": [
       "True"
      ]
     },
     "execution_count": 31,
     "metadata": {},
     "output_type": "execute_result"
    }
   ],
   "source": [
    "nltk.download('wordnet')"
   ]
  },
  {
   "cell_type": "code",
   "execution_count": 32,
   "id": "f7d9acf3",
   "metadata": {
    "execution": {
     "iopub.execute_input": "2023-08-19T07:17:23.100567Z",
     "iopub.status.busy": "2023-08-19T07:17:23.100100Z",
     "iopub.status.idle": "2023-08-19T07:17:23.657461Z",
     "shell.execute_reply": "2023-08-19T07:17:23.656202Z"
    },
    "papermill": {
     "duration": 0.574249,
     "end_time": "2023-08-19T07:17:23.659957",
     "exception": false,
     "start_time": "2023-08-19T07:17:23.085708",
     "status": "completed"
    },
    "tags": []
   },
   "outputs": [
    {
     "name": "stdout",
     "output_type": "stream",
     "text": [
      "Archive:  /usr/share/nltk_data/corpora/wordnet.zip\r\n",
      "   creating: /usr/share/nltk_data/corpora/wordnet/\r\n",
      "  inflating: /usr/share/nltk_data/corpora/wordnet/lexnames  \r\n",
      "  inflating: /usr/share/nltk_data/corpora/wordnet/data.verb  \r\n",
      "  inflating: /usr/share/nltk_data/corpora/wordnet/index.adv  \r\n",
      "  inflating: /usr/share/nltk_data/corpora/wordnet/adv.exc  \r\n",
      "  inflating: /usr/share/nltk_data/corpora/wordnet/index.verb  \r\n",
      "  inflating: /usr/share/nltk_data/corpora/wordnet/cntlist.rev  \r\n",
      "  inflating: /usr/share/nltk_data/corpora/wordnet/data.adj  \r\n",
      "  inflating: /usr/share/nltk_data/corpora/wordnet/index.adj  \r\n",
      "  inflating: /usr/share/nltk_data/corpora/wordnet/LICENSE  \r\n",
      "  inflating: /usr/share/nltk_data/corpora/wordnet/citation.bib  \r\n",
      "  inflating: /usr/share/nltk_data/corpora/wordnet/noun.exc  \r\n",
      "  inflating: /usr/share/nltk_data/corpora/wordnet/verb.exc  \r\n",
      "  inflating: /usr/share/nltk_data/corpora/wordnet/README  \r\n",
      "  inflating: /usr/share/nltk_data/corpora/wordnet/index.sense  \r\n",
      "  inflating: /usr/share/nltk_data/corpora/wordnet/data.noun  \r\n",
      "  inflating: /usr/share/nltk_data/corpora/wordnet/data.adv  \r\n",
      "  inflating: /usr/share/nltk_data/corpora/wordnet/index.noun  \r\n",
      "  inflating: /usr/share/nltk_data/corpora/wordnet/adj.exc  \r\n"
     ]
    }
   ],
   "source": [
    "#unzipping\n",
    "!unzip /usr/share/nltk_data/corpora/wordnet.zip -d /usr/share/nltk_data/corpora/"
   ]
  },
  {
   "cell_type": "code",
   "execution_count": 33,
   "id": "d6ccfabd",
   "metadata": {
    "execution": {
     "iopub.execute_input": "2023-08-19T07:17:23.688459Z",
     "iopub.status.busy": "2023-08-19T07:17:23.687951Z",
     "iopub.status.idle": "2023-08-19T07:17:23.693992Z",
     "shell.execute_reply": "2023-08-19T07:17:23.692810Z"
    },
    "papermill": {
     "duration": 0.0233,
     "end_time": "2023-08-19T07:17:23.696432",
     "exception": false,
     "start_time": "2023-08-19T07:17:23.673132",
     "status": "completed"
    },
    "tags": []
   },
   "outputs": [],
   "source": [
    "def lematize(text):\n",
    "    ste=[wl.lemmatize(word) for word in text.split()]\n",
    "    ste_join=' '.join(ste)\n",
    "    return ste_join"
   ]
  },
  {
   "cell_type": "code",
   "execution_count": 34,
   "id": "755a6653",
   "metadata": {
    "execution": {
     "iopub.execute_input": "2023-08-19T07:17:23.723047Z",
     "iopub.status.busy": "2023-08-19T07:17:23.722715Z",
     "iopub.status.idle": "2023-08-19T07:17:25.558576Z",
     "shell.execute_reply": "2023-08-19T07:17:25.557273Z"
    },
    "papermill": {
     "duration": 1.851939,
     "end_time": "2023-08-19T07:17:25.560978",
     "exception": false,
     "start_time": "2023-08-19T07:17:23.709039",
     "status": "completed"
    },
    "tags": []
   },
   "outputs": [
    {
     "data": {
      "text/plain": [
       "'dog keep on barking'"
      ]
     },
     "execution_count": 34,
     "metadata": {},
     "output_type": "execute_result"
    }
   ],
   "source": [
    "lematize('dog keepss on barking')"
   ]
  },
  {
   "cell_type": "code",
   "execution_count": 35,
   "id": "6b956d88",
   "metadata": {
    "execution": {
     "iopub.execute_input": "2023-08-19T07:17:25.588248Z",
     "iopub.status.busy": "2023-08-19T07:17:25.587910Z",
     "iopub.status.idle": "2023-08-19T07:17:25.598024Z",
     "shell.execute_reply": "2023-08-19T07:17:25.596927Z"
    },
    "papermill": {
     "duration": 0.026947,
     "end_time": "2023-08-19T07:17:25.600852",
     "exception": false,
     "start_time": "2023-08-19T07:17:25.573905",
     "status": "completed"
    },
    "tags": []
   },
   "outputs": [
    {
     "data": {
      "text/html": [
       "<div>\n",
       "<style scoped>\n",
       "    .dataframe tbody tr th:only-of-type {\n",
       "        vertical-align: middle;\n",
       "    }\n",
       "\n",
       "    .dataframe tbody tr th {\n",
       "        vertical-align: top;\n",
       "    }\n",
       "\n",
       "    .dataframe thead th {\n",
       "        text-align: right;\n",
       "    }\n",
       "</style>\n",
       "<table border=\"1\" class=\"dataframe\">\n",
       "  <thead>\n",
       "    <tr style=\"text-align: right;\">\n",
       "      <th></th>\n",
       "      <th>tweet</th>\n",
       "    </tr>\n",
       "  </thead>\n",
       "  <tbody>\n",
       "    <tr>\n",
       "      <th>0</th>\n",
       "      <td>user father dysfunctional selfish drags kids d...</td>\n",
       "    </tr>\n",
       "    <tr>\n",
       "      <th>1</th>\n",
       "      <td>user user thanks lyft credit cant use cause do...</td>\n",
       "    </tr>\n",
       "  </tbody>\n",
       "</table>\n",
       "</div>"
      ],
      "text/plain": [
       "                                               tweet\n",
       "0  user father dysfunctional selfish drags kids d...\n",
       "1  user user thanks lyft credit cant use cause do..."
      ]
     },
     "execution_count": 35,
     "metadata": {},
     "output_type": "execute_result"
    }
   ],
   "source": [
    "tweets_data_stopwords.iloc[:2]"
   ]
  },
  {
   "cell_type": "code",
   "execution_count": 36,
   "id": "e4bb608f",
   "metadata": {
    "execution": {
     "iopub.execute_input": "2023-08-19T07:17:25.631815Z",
     "iopub.status.busy": "2023-08-19T07:17:25.631043Z",
     "iopub.status.idle": "2023-08-19T07:17:25.642585Z",
     "shell.execute_reply": "2023-08-19T07:17:25.641310Z"
    },
    "papermill": {
     "duration": 0.030355,
     "end_time": "2023-08-19T07:17:25.645527",
     "exception": false,
     "start_time": "2023-08-19T07:17:25.615172",
     "status": "completed"
    },
    "tags": []
   },
   "outputs": [
    {
     "data": {
      "text/html": [
       "<div>\n",
       "<style scoped>\n",
       "    .dataframe tbody tr th:only-of-type {\n",
       "        vertical-align: middle;\n",
       "    }\n",
       "\n",
       "    .dataframe tbody tr th {\n",
       "        vertical-align: top;\n",
       "    }\n",
       "\n",
       "    .dataframe thead th {\n",
       "        text-align: right;\n",
       "    }\n",
       "</style>\n",
       "<table border=\"1\" class=\"dataframe\">\n",
       "  <thead>\n",
       "    <tr style=\"text-align: right;\">\n",
       "      <th></th>\n",
       "      <th>tweet</th>\n",
       "    </tr>\n",
       "  </thead>\n",
       "  <tbody>\n",
       "    <tr>\n",
       "      <th>0</th>\n",
       "      <td>user father dysfunct selfish drag kid dysfunct...</td>\n",
       "    </tr>\n",
       "    <tr>\n",
       "      <th>1</th>\n",
       "      <td>user user thank lyft credit cant use caus dont...</td>\n",
       "    </tr>\n",
       "    <tr>\n",
       "      <th>2</th>\n",
       "      <td>bihday majesti</td>\n",
       "    </tr>\n",
       "    <tr>\n",
       "      <th>3</th>\n",
       "      <td>model love u take u time urð± ðððð...</td>\n",
       "    </tr>\n",
       "    <tr>\n",
       "      <th>4</th>\n",
       "      <td>factsguid societi motiv</td>\n",
       "    </tr>\n",
       "  </tbody>\n",
       "</table>\n",
       "</div>"
      ],
      "text/plain": [
       "                                               tweet\n",
       "0  user father dysfunct selfish drag kid dysfunct...\n",
       "1  user user thank lyft credit cant use caus dont...\n",
       "2                                     bihday majesti\n",
       "3  model love u take u time urð± ðððð...\n",
       "4                            factsguid societi motiv"
      ]
     },
     "execution_count": 36,
     "metadata": {},
     "output_type": "execute_result"
    }
   ],
   "source": [
    "tweets_data_stem=pd.DataFrame(tweets_data_stem)\n",
    "tweets_data_stem.head()"
   ]
  },
  {
   "cell_type": "code",
   "execution_count": 37,
   "id": "9f26ce04",
   "metadata": {
    "execution": {
     "iopub.execute_input": "2023-08-19T07:17:25.674101Z",
     "iopub.status.busy": "2023-08-19T07:17:25.673740Z",
     "iopub.status.idle": "2023-08-19T07:17:25.683810Z",
     "shell.execute_reply": "2023-08-19T07:17:25.681948Z"
    },
    "papermill": {
     "duration": 0.02924,
     "end_time": "2023-08-19T07:17:25.688152",
     "exception": false,
     "start_time": "2023-08-19T07:17:25.658912",
     "status": "completed"
    },
    "tags": []
   },
   "outputs": [
    {
     "data": {
      "text/plain": [
       "31962"
      ]
     },
     "execution_count": 37,
     "metadata": {},
     "output_type": "execute_result"
    }
   ],
   "source": [
    "from sklearn.feature_extraction.text import CountVectorizer\n",
    "cv=CountVectorizer(max_features=5000)\n",
    "sen=tweets_data_stem['tweet'].tolist()\n",
    "len(sen)"
   ]
  },
  {
   "cell_type": "code",
   "execution_count": 38,
   "id": "af11cefb",
   "metadata": {
    "execution": {
     "iopub.execute_input": "2023-08-19T07:17:25.718165Z",
     "iopub.status.busy": "2023-08-19T07:17:25.717740Z",
     "iopub.status.idle": "2023-08-19T07:17:25.724141Z",
     "shell.execute_reply": "2023-08-19T07:17:25.723359Z"
    },
    "papermill": {
     "duration": 0.024268,
     "end_time": "2023-08-19T07:17:25.726440",
     "exception": false,
     "start_time": "2023-08-19T07:17:25.702172",
     "status": "completed"
    },
    "tags": []
   },
   "outputs": [],
   "source": [
    "from pandas import DataFrame\n",
    "def document_matrix(text, vectorizer):\n",
    "    mat=vectorizer.fit_transform(text)\n",
    "    return DataFrame(mat.toarray())"
   ]
  },
  {
   "cell_type": "code",
   "execution_count": 39,
   "id": "417b68c7",
   "metadata": {
    "execution": {
     "iopub.execute_input": "2023-08-19T07:17:25.756850Z",
     "iopub.status.busy": "2023-08-19T07:17:25.756111Z",
     "iopub.status.idle": "2023-08-19T07:17:26.384364Z",
     "shell.execute_reply": "2023-08-19T07:17:26.382615Z"
    },
    "papermill": {
     "duration": 0.647384,
     "end_time": "2023-08-19T07:17:26.387718",
     "exception": false,
     "start_time": "2023-08-19T07:17:25.740334",
     "status": "completed"
    },
    "tags": []
   },
   "outputs": [
    {
     "data": {
      "text/html": [
       "<div>\n",
       "<style scoped>\n",
       "    .dataframe tbody tr th:only-of-type {\n",
       "        vertical-align: middle;\n",
       "    }\n",
       "\n",
       "    .dataframe tbody tr th {\n",
       "        vertical-align: top;\n",
       "    }\n",
       "\n",
       "    .dataframe thead th {\n",
       "        text-align: right;\n",
       "    }\n",
       "</style>\n",
       "<table border=\"1\" class=\"dataframe\">\n",
       "  <thead>\n",
       "    <tr style=\"text-align: right;\">\n",
       "      <th></th>\n",
       "      <th>0</th>\n",
       "      <th>1</th>\n",
       "      <th>2</th>\n",
       "      <th>3</th>\n",
       "      <th>4</th>\n",
       "      <th>5</th>\n",
       "      <th>6</th>\n",
       "      <th>7</th>\n",
       "      <th>8</th>\n",
       "      <th>9</th>\n",
       "      <th>...</th>\n",
       "      <th>4990</th>\n",
       "      <th>4991</th>\n",
       "      <th>4992</th>\n",
       "      <th>4993</th>\n",
       "      <th>4994</th>\n",
       "      <th>4995</th>\n",
       "      <th>4996</th>\n",
       "      <th>4997</th>\n",
       "      <th>4998</th>\n",
       "      <th>4999</th>\n",
       "    </tr>\n",
       "  </thead>\n",
       "  <tbody>\n",
       "    <tr>\n",
       "      <th>0</th>\n",
       "      <td>0</td>\n",
       "      <td>0</td>\n",
       "      <td>0</td>\n",
       "      <td>0</td>\n",
       "      <td>0</td>\n",
       "      <td>0</td>\n",
       "      <td>0</td>\n",
       "      <td>0</td>\n",
       "      <td>0</td>\n",
       "      <td>0</td>\n",
       "      <td>...</td>\n",
       "      <td>0</td>\n",
       "      <td>0</td>\n",
       "      <td>0</td>\n",
       "      <td>0</td>\n",
       "      <td>0</td>\n",
       "      <td>0</td>\n",
       "      <td>0</td>\n",
       "      <td>0</td>\n",
       "      <td>0</td>\n",
       "      <td>0</td>\n",
       "    </tr>\n",
       "    <tr>\n",
       "      <th>1</th>\n",
       "      <td>0</td>\n",
       "      <td>0</td>\n",
       "      <td>0</td>\n",
       "      <td>0</td>\n",
       "      <td>0</td>\n",
       "      <td>0</td>\n",
       "      <td>0</td>\n",
       "      <td>0</td>\n",
       "      <td>0</td>\n",
       "      <td>0</td>\n",
       "      <td>...</td>\n",
       "      <td>0</td>\n",
       "      <td>0</td>\n",
       "      <td>0</td>\n",
       "      <td>0</td>\n",
       "      <td>0</td>\n",
       "      <td>0</td>\n",
       "      <td>0</td>\n",
       "      <td>0</td>\n",
       "      <td>0</td>\n",
       "      <td>0</td>\n",
       "    </tr>\n",
       "    <tr>\n",
       "      <th>2</th>\n",
       "      <td>0</td>\n",
       "      <td>0</td>\n",
       "      <td>0</td>\n",
       "      <td>0</td>\n",
       "      <td>0</td>\n",
       "      <td>0</td>\n",
       "      <td>0</td>\n",
       "      <td>0</td>\n",
       "      <td>0</td>\n",
       "      <td>0</td>\n",
       "      <td>...</td>\n",
       "      <td>0</td>\n",
       "      <td>0</td>\n",
       "      <td>0</td>\n",
       "      <td>0</td>\n",
       "      <td>0</td>\n",
       "      <td>0</td>\n",
       "      <td>0</td>\n",
       "      <td>0</td>\n",
       "      <td>0</td>\n",
       "      <td>0</td>\n",
       "    </tr>\n",
       "    <tr>\n",
       "      <th>3</th>\n",
       "      <td>0</td>\n",
       "      <td>0</td>\n",
       "      <td>0</td>\n",
       "      <td>0</td>\n",
       "      <td>0</td>\n",
       "      <td>0</td>\n",
       "      <td>0</td>\n",
       "      <td>0</td>\n",
       "      <td>0</td>\n",
       "      <td>0</td>\n",
       "      <td>...</td>\n",
       "      <td>0</td>\n",
       "      <td>0</td>\n",
       "      <td>0</td>\n",
       "      <td>0</td>\n",
       "      <td>0</td>\n",
       "      <td>0</td>\n",
       "      <td>0</td>\n",
       "      <td>0</td>\n",
       "      <td>0</td>\n",
       "      <td>0</td>\n",
       "    </tr>\n",
       "    <tr>\n",
       "      <th>4</th>\n",
       "      <td>0</td>\n",
       "      <td>0</td>\n",
       "      <td>0</td>\n",
       "      <td>0</td>\n",
       "      <td>0</td>\n",
       "      <td>0</td>\n",
       "      <td>0</td>\n",
       "      <td>0</td>\n",
       "      <td>0</td>\n",
       "      <td>0</td>\n",
       "      <td>...</td>\n",
       "      <td>0</td>\n",
       "      <td>0</td>\n",
       "      <td>0</td>\n",
       "      <td>0</td>\n",
       "      <td>0</td>\n",
       "      <td>0</td>\n",
       "      <td>0</td>\n",
       "      <td>0</td>\n",
       "      <td>0</td>\n",
       "      <td>0</td>\n",
       "    </tr>\n",
       "  </tbody>\n",
       "</table>\n",
       "<p>5 rows × 5000 columns</p>\n",
       "</div>"
      ],
      "text/plain": [
       "   0     1     2     3     4     5     6     7     8     9     ...  4990  \\\n",
       "0     0     0     0     0     0     0     0     0     0     0  ...     0   \n",
       "1     0     0     0     0     0     0     0     0     0     0  ...     0   \n",
       "2     0     0     0     0     0     0     0     0     0     0  ...     0   \n",
       "3     0     0     0     0     0     0     0     0     0     0  ...     0   \n",
       "4     0     0     0     0     0     0     0     0     0     0  ...     0   \n",
       "\n",
       "   4991  4992  4993  4994  4995  4996  4997  4998  4999  \n",
       "0     0     0     0     0     0     0     0     0     0  \n",
       "1     0     0     0     0     0     0     0     0     0  \n",
       "2     0     0     0     0     0     0     0     0     0  \n",
       "3     0     0     0     0     0     0     0     0     0  \n",
       "4     0     0     0     0     0     0     0     0     0  \n",
       "\n",
       "[5 rows x 5000 columns]"
      ]
     },
     "execution_count": 39,
     "metadata": {},
     "output_type": "execute_result"
    }
   ],
   "source": [
    "m=document_matrix(sen,cv)\n",
    "m.head()"
   ]
  },
  {
   "cell_type": "code",
   "execution_count": 40,
   "id": "4ea2180a",
   "metadata": {
    "execution": {
     "iopub.execute_input": "2023-08-19T07:17:26.418152Z",
     "iopub.status.busy": "2023-08-19T07:17:26.417807Z",
     "iopub.status.idle": "2023-08-19T07:17:26.423992Z",
     "shell.execute_reply": "2023-08-19T07:17:26.422435Z"
    },
    "papermill": {
     "duration": 0.02461,
     "end_time": "2023-08-19T07:17:26.426728",
     "exception": false,
     "start_time": "2023-08-19T07:17:26.402118",
     "status": "completed"
    },
    "tags": []
   },
   "outputs": [],
   "source": [
    "from sklearn.feature_extraction.text import TfidfVectorizer\n",
    "tfid=TfidfVectorizer(max_features=2500)"
   ]
  },
  {
   "cell_type": "code",
   "execution_count": 41,
   "id": "10443068",
   "metadata": {
    "execution": {
     "iopub.execute_input": "2023-08-19T07:17:26.456671Z",
     "iopub.status.busy": "2023-08-19T07:17:26.456238Z",
     "iopub.status.idle": "2023-08-19T07:17:26.460747Z",
     "shell.execute_reply": "2023-08-19T07:17:26.459873Z"
    },
    "papermill": {
     "duration": 0.021524,
     "end_time": "2023-08-19T07:17:26.462522",
     "exception": false,
     "start_time": "2023-08-19T07:17:26.440998",
     "status": "completed"
    },
    "tags": []
   },
   "outputs": [],
   "source": [
    "#splitting data into dependant and independent variables"
   ]
  },
  {
   "cell_type": "code",
   "execution_count": 42,
   "id": "6b25d604",
   "metadata": {
    "execution": {
     "iopub.execute_input": "2023-08-19T07:17:26.492446Z",
     "iopub.status.busy": "2023-08-19T07:17:26.491739Z",
     "iopub.status.idle": "2023-08-19T07:17:26.498658Z",
     "shell.execute_reply": "2023-08-19T07:17:26.497963Z"
    },
    "papermill": {
     "duration": 0.023924,
     "end_time": "2023-08-19T07:17:26.500360",
     "exception": false,
     "start_time": "2023-08-19T07:17:26.476436",
     "status": "completed"
    },
    "tags": []
   },
   "outputs": [
    {
     "data": {
      "text/plain": [
       "0    0\n",
       "1    0\n",
       "2    0\n",
       "3    0\n",
       "4    0\n",
       "Name: label, dtype: int64"
      ]
     },
     "execution_count": 42,
     "metadata": {},
     "output_type": "execute_result"
    }
   ],
   "source": [
    "y=data['label']\n",
    "y.head()"
   ]
  },
  {
   "cell_type": "code",
   "execution_count": 43,
   "id": "332af3bc",
   "metadata": {
    "execution": {
     "iopub.execute_input": "2023-08-19T07:17:26.530273Z",
     "iopub.status.busy": "2023-08-19T07:17:26.529326Z",
     "iopub.status.idle": "2023-08-19T07:17:26.971928Z",
     "shell.execute_reply": "2023-08-19T07:17:26.970121Z"
    },
    "papermill": {
     "duration": 0.460873,
     "end_time": "2023-08-19T07:17:26.974822",
     "exception": false,
     "start_time": "2023-08-19T07:17:26.513949",
     "status": "completed"
    },
    "tags": []
   },
   "outputs": [],
   "source": [
    "from sklearn.model_selection import train_test_split\n",
    "x_train,x_test,y_train,y_test=train_test_split(m,y,test_size=0.33,random_state=25)"
   ]
  },
  {
   "cell_type": "code",
   "execution_count": 44,
   "id": "759252ae",
   "metadata": {
    "execution": {
     "iopub.execute_input": "2023-08-19T07:17:27.006614Z",
     "iopub.status.busy": "2023-08-19T07:17:27.005433Z",
     "iopub.status.idle": "2023-08-19T07:17:27.015597Z",
     "shell.execute_reply": "2023-08-19T07:17:27.013992Z"
    },
    "papermill": {
     "duration": 0.029179,
     "end_time": "2023-08-19T07:17:27.018486",
     "exception": false,
     "start_time": "2023-08-19T07:17:26.989307",
     "status": "completed"
    },
    "tags": []
   },
   "outputs": [
    {
     "data": {
      "text/plain": [
       "(21414, 5000)"
      ]
     },
     "execution_count": 44,
     "metadata": {},
     "output_type": "execute_result"
    }
   ],
   "source": [
    "x_train.shape"
   ]
  },
  {
   "cell_type": "code",
   "execution_count": 45,
   "id": "2fb9fc14",
   "metadata": {
    "execution": {
     "iopub.execute_input": "2023-08-19T07:17:27.049821Z",
     "iopub.status.busy": "2023-08-19T07:17:27.048888Z",
     "iopub.status.idle": "2023-08-19T07:17:27.054323Z",
     "shell.execute_reply": "2023-08-19T07:17:27.053622Z"
    },
    "papermill": {
     "duration": 0.022233,
     "end_time": "2023-08-19T07:17:27.055994",
     "exception": false,
     "start_time": "2023-08-19T07:17:27.033761",
     "status": "completed"
    },
    "tags": []
   },
   "outputs": [
    {
     "data": {
      "text/plain": [
       "(21414,)"
      ]
     },
     "execution_count": 45,
     "metadata": {},
     "output_type": "execute_result"
    }
   ],
   "source": [
    "y_train.shape"
   ]
  },
  {
   "cell_type": "code",
   "execution_count": 46,
   "id": "930935c0",
   "metadata": {
    "execution": {
     "iopub.execute_input": "2023-08-19T07:17:27.086796Z",
     "iopub.status.busy": "2023-08-19T07:17:27.086155Z",
     "iopub.status.idle": "2023-08-19T07:17:27.779324Z",
     "shell.execute_reply": "2023-08-19T07:17:27.777544Z"
    },
    "papermill": {
     "duration": 0.712293,
     "end_time": "2023-08-19T07:17:27.782737",
     "exception": false,
     "start_time": "2023-08-19T07:17:27.070444",
     "status": "completed"
    },
    "tags": []
   },
   "outputs": [
    {
     "data": {
      "text/html": [
       "<style>#sk-container-id-1 {color: black;background-color: white;}#sk-container-id-1 pre{padding: 0;}#sk-container-id-1 div.sk-toggleable {background-color: white;}#sk-container-id-1 label.sk-toggleable__label {cursor: pointer;display: block;width: 100%;margin-bottom: 0;padding: 0.3em;box-sizing: border-box;text-align: center;}#sk-container-id-1 label.sk-toggleable__label-arrow:before {content: \"▸\";float: left;margin-right: 0.25em;color: #696969;}#sk-container-id-1 label.sk-toggleable__label-arrow:hover:before {color: black;}#sk-container-id-1 div.sk-estimator:hover label.sk-toggleable__label-arrow:before {color: black;}#sk-container-id-1 div.sk-toggleable__content {max-height: 0;max-width: 0;overflow: hidden;text-align: left;background-color: #f0f8ff;}#sk-container-id-1 div.sk-toggleable__content pre {margin: 0.2em;color: black;border-radius: 0.25em;background-color: #f0f8ff;}#sk-container-id-1 input.sk-toggleable__control:checked~div.sk-toggleable__content {max-height: 200px;max-width: 100%;overflow: auto;}#sk-container-id-1 input.sk-toggleable__control:checked~label.sk-toggleable__label-arrow:before {content: \"▾\";}#sk-container-id-1 div.sk-estimator input.sk-toggleable__control:checked~label.sk-toggleable__label {background-color: #d4ebff;}#sk-container-id-1 div.sk-label input.sk-toggleable__control:checked~label.sk-toggleable__label {background-color: #d4ebff;}#sk-container-id-1 input.sk-hidden--visually {border: 0;clip: rect(1px 1px 1px 1px);clip: rect(1px, 1px, 1px, 1px);height: 1px;margin: -1px;overflow: hidden;padding: 0;position: absolute;width: 1px;}#sk-container-id-1 div.sk-estimator {font-family: monospace;background-color: #f0f8ff;border: 1px dotted black;border-radius: 0.25em;box-sizing: border-box;margin-bottom: 0.5em;}#sk-container-id-1 div.sk-estimator:hover {background-color: #d4ebff;}#sk-container-id-1 div.sk-parallel-item::after {content: \"\";width: 100%;border-bottom: 1px solid gray;flex-grow: 1;}#sk-container-id-1 div.sk-label:hover label.sk-toggleable__label {background-color: #d4ebff;}#sk-container-id-1 div.sk-serial::before {content: \"\";position: absolute;border-left: 1px solid gray;box-sizing: border-box;top: 0;bottom: 0;left: 50%;z-index: 0;}#sk-container-id-1 div.sk-serial {display: flex;flex-direction: column;align-items: center;background-color: white;padding-right: 0.2em;padding-left: 0.2em;position: relative;}#sk-container-id-1 div.sk-item {position: relative;z-index: 1;}#sk-container-id-1 div.sk-parallel {display: flex;align-items: stretch;justify-content: center;background-color: white;position: relative;}#sk-container-id-1 div.sk-item::before, #sk-container-id-1 div.sk-parallel-item::before {content: \"\";position: absolute;border-left: 1px solid gray;box-sizing: border-box;top: 0;bottom: 0;left: 50%;z-index: -1;}#sk-container-id-1 div.sk-parallel-item {display: flex;flex-direction: column;z-index: 1;position: relative;background-color: white;}#sk-container-id-1 div.sk-parallel-item:first-child::after {align-self: flex-end;width: 50%;}#sk-container-id-1 div.sk-parallel-item:last-child::after {align-self: flex-start;width: 50%;}#sk-container-id-1 div.sk-parallel-item:only-child::after {width: 0;}#sk-container-id-1 div.sk-dashed-wrapped {border: 1px dashed gray;margin: 0 0.4em 0.5em 0.4em;box-sizing: border-box;padding-bottom: 0.4em;background-color: white;}#sk-container-id-1 div.sk-label label {font-family: monospace;font-weight: bold;display: inline-block;line-height: 1.2em;}#sk-container-id-1 div.sk-label-container {text-align: center;}#sk-container-id-1 div.sk-container {/* jupyter's `normalize.less` sets `[hidden] { display: none; }` but bootstrap.min.css set `[hidden] { display: none !important; }` so we also need the `!important` here to be able to override the default hidden behavior on the sphinx rendered scikit-learn.org. See: https://github.com/scikit-learn/scikit-learn/issues/21755 */display: inline-block !important;position: relative;}#sk-container-id-1 div.sk-text-repr-fallback {display: none;}</style><div id=\"sk-container-id-1\" class=\"sk-top-container\"><div class=\"sk-text-repr-fallback\"><pre>MultinomialNB()</pre><b>In a Jupyter environment, please rerun this cell to show the HTML representation or trust the notebook. <br />On GitHub, the HTML representation is unable to render, please try loading this page with nbviewer.org.</b></div><div class=\"sk-container\" hidden><div class=\"sk-item\"><div class=\"sk-estimator sk-toggleable\"><input class=\"sk-toggleable__control sk-hidden--visually\" id=\"sk-estimator-id-1\" type=\"checkbox\" checked><label for=\"sk-estimator-id-1\" class=\"sk-toggleable__label sk-toggleable__label-arrow\">MultinomialNB</label><div class=\"sk-toggleable__content\"><pre>MultinomialNB()</pre></div></div></div></div></div>"
      ],
      "text/plain": [
       "MultinomialNB()"
      ]
     },
     "execution_count": 46,
     "metadata": {},
     "output_type": "execute_result"
    }
   ],
   "source": [
    "#naive bayes classifier\n",
    "from sklearn.naive_bayes import MultinomialNB\n",
    "classifier=MultinomialNB()\n",
    "classifier.fit(x_train,y_train)"
   ]
  },
  {
   "cell_type": "code",
   "execution_count": 47,
   "id": "28368efe",
   "metadata": {
    "execution": {
     "iopub.execute_input": "2023-08-19T07:17:27.817040Z",
     "iopub.status.busy": "2023-08-19T07:17:27.816425Z",
     "iopub.status.idle": "2023-08-19T07:17:28.239767Z",
     "shell.execute_reply": "2023-08-19T07:17:28.238732Z"
    },
    "papermill": {
     "duration": 0.444236,
     "end_time": "2023-08-19T07:17:28.242421",
     "exception": false,
     "start_time": "2023-08-19T07:17:27.798185",
     "status": "completed"
    },
    "tags": []
   },
   "outputs": [],
   "source": [
    "#predicting train\n",
    "y_pred_train=classifier.predict(x_train)"
   ]
  },
  {
   "cell_type": "code",
   "execution_count": 48,
   "id": "afeaf0b7",
   "metadata": {
    "execution": {
     "iopub.execute_input": "2023-08-19T07:17:28.280518Z",
     "iopub.status.busy": "2023-08-19T07:17:28.280060Z",
     "iopub.status.idle": "2023-08-19T07:17:28.289850Z",
     "shell.execute_reply": "2023-08-19T07:17:28.288951Z"
    },
    "papermill": {
     "duration": 0.031482,
     "end_time": "2023-08-19T07:17:28.291843",
     "exception": false,
     "start_time": "2023-08-19T07:17:28.260361",
     "status": "completed"
    },
    "tags": []
   },
   "outputs": [],
   "source": [
    "from sklearn.metrics import accuracy_score\n",
    "acc=accuracy_score(y_train,y_pred_train)"
   ]
  },
  {
   "cell_type": "code",
   "execution_count": 49,
   "id": "81222b4e",
   "metadata": {
    "execution": {
     "iopub.execute_input": "2023-08-19T07:17:28.329515Z",
     "iopub.status.busy": "2023-08-19T07:17:28.329100Z",
     "iopub.status.idle": "2023-08-19T07:17:28.334791Z",
     "shell.execute_reply": "2023-08-19T07:17:28.334079Z"
    },
    "papermill": {
     "duration": 0.029398,
     "end_time": "2023-08-19T07:17:28.339509",
     "exception": false,
     "start_time": "2023-08-19T07:17:28.310111",
     "status": "completed"
    },
    "tags": []
   },
   "outputs": [
    {
     "data": {
      "text/plain": [
       "0.9614738021854862"
      ]
     },
     "execution_count": 49,
     "metadata": {},
     "output_type": "execute_result"
    }
   ],
   "source": [
    "acc"
   ]
  },
  {
   "cell_type": "code",
   "execution_count": null,
   "id": "cb52a812",
   "metadata": {
    "papermill": {
     "duration": 0.014326,
     "end_time": "2023-08-19T07:17:28.369190",
     "exception": false,
     "start_time": "2023-08-19T07:17:28.354864",
     "status": "completed"
    },
    "tags": []
   },
   "outputs": [],
   "source": []
  }
 ],
 "metadata": {
  "kernelspec": {
   "display_name": "Python 3",
   "language": "python",
   "name": "python3"
  },
  "language_info": {
   "codemirror_mode": {
    "name": "ipython",
    "version": 3
   },
   "file_extension": ".py",
   "mimetype": "text/x-python",
   "name": "python",
   "nbconvert_exporter": "python",
   "pygments_lexer": "ipython3",
   "version": "3.10.12"
  },
  "papermill": {
   "default_parameters": {},
   "duration": 28.306223,
   "end_time": "2023-08-19T07:17:30.211390",
   "environment_variables": {},
   "exception": null,
   "input_path": "__notebook__.ipynb",
   "output_path": "__notebook__.ipynb",
   "parameters": {},
   "start_time": "2023-08-19T07:17:01.905167",
   "version": "2.4.0"
  }
 },
 "nbformat": 4,
 "nbformat_minor": 5
}
